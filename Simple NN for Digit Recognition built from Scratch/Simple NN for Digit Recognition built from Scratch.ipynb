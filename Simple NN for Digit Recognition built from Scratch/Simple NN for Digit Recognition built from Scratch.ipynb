{
 "cells": [
  {
   "cell_type": "markdown",
   "id": "850f78c5",
   "metadata": {},
   "source": [
    "#### Import the Required Packages and Load the Data"
   ]
  },
  {
   "cell_type": "markdown",
   "id": "d4a94bf4",
   "metadata": {},
   "source": [
    "Dataset here used is obtained from Kaggle\\\n",
    "Dataset Link: https://www.kaggle.com/competitions/digit-recognizer/data"
   ]
  },
  {
   "cell_type": "code",
   "execution_count": 1,
   "id": "76c819c6",
   "metadata": {},
   "outputs": [],
   "source": [
    "import numpy as np\n",
    "import pandas as pd\n",
    "from matplotlib import pyplot as plt\n",
    "\n",
    "data = pd.read_csv(r\"E:\\D Backup\\SEM 3 EVEN\\DL\\Datasets\\train.csv\")"
   ]
  },
  {
   "cell_type": "markdown",
   "id": "2f70d743",
   "metadata": {},
   "source": [
    "#### Required Data Processing"
   ]
  },
  {
   "cell_type": "code",
   "execution_count": 2,
   "id": "12480296",
   "metadata": {},
   "outputs": [],
   "source": [
    "data = np.array(data)\n",
    "m, n = data.shape\n",
    "np.random.shuffle(data) # shuffle before splitting into dev and training sets\n",
    "\n",
    "data_dev = data[0:1000].T\n",
    "Y_dev = data_dev[0]\n",
    "X_dev = data_dev[1:n]\n",
    "X_dev = X_dev / 255.\n",
    "\n",
    "data_train = data[1000:m].T\n",
    "Y_train = data_train[0]\n",
    "X_train = data_train[1:n]\n",
    "X_train = X_train / 255.\n",
    "_,m_train = X_train.shape"
   ]
  },
  {
   "cell_type": "code",
   "execution_count": 3,
   "id": "c08f044c",
   "metadata": {},
   "outputs": [
    {
     "name": "stdout",
     "output_type": "stream",
     "text": [
      "[3 7 3 ... 1 1 1]\n"
     ]
    }
   ],
   "source": [
    "print(Y_train)"
   ]
  },
  {
   "cell_type": "markdown",
   "id": "5f060eba",
   "metadata": {},
   "source": [
    "#### Model Building from the Scratch"
   ]
  },
  {
   "cell_type": "markdown",
   "id": "ca24aad7",
   "metadata": {},
   "source": [
    "Our NN will have a simple two-layer architecture. Input layer  a[0]\n",
    "  will have 784 units corresponding to the 784 pixels in each 28x28 input image. A hidden layer  a[1]\n",
    "  will have 10 units with ReLU activation, and finally our output layer  a[2]\n",
    "  will have 10 units corresponding to the ten digit classes with softmax activation."
   ]
  },
  {
   "cell_type": "code",
   "execution_count": 4,
   "id": "501fdb93",
   "metadata": {},
   "outputs": [],
   "source": [
    "def init_params():\n",
    "    W1 = np.random.rand(10, 784) - 0.5\n",
    "    b1 = np.random.rand(10, 1) - 0.5\n",
    "    W2 = np.random.rand(10, 10) - 0.5\n",
    "    b2 = np.random.rand(10, 1) - 0.5\n",
    "    return W1, b1, W2, b2\n",
    "\n",
    "def ReLU(Z):\n",
    "    return np.maximum(Z, 0)\n",
    "\n",
    "def softmax(Z):\n",
    "    A = np.exp(Z) / sum(np.exp(Z))\n",
    "    return A\n",
    "    \n",
    "def forward_prop(W1, b1, W2, b2, X):\n",
    "    Z1 = W1.dot(X) + b1\n",
    "    A1 = ReLU(Z1)\n",
    "    Z2 = W2.dot(A1) + b2\n",
    "    A2 = softmax(Z2)\n",
    "    return Z1, A1, Z2, A2\n",
    "\n",
    "def ReLU_deriv(Z):\n",
    "    return Z > 0\n",
    "\n",
    "def one_hot(Y):\n",
    "    one_hot_Y = np.zeros((Y.size, Y.max() + 1))\n",
    "    one_hot_Y[np.arange(Y.size), Y] = 1\n",
    "    one_hot_Y = one_hot_Y.T\n",
    "    return one_hot_Y\n",
    "\n",
    "def backward_prop(Z1, A1, Z2, A2, W1, W2, X, Y):\n",
    "    one_hot_Y = one_hot(Y)\n",
    "    dZ2 = A2 - one_hot_Y\n",
    "    dW2 = 1 / m * dZ2.dot(A1.T)\n",
    "    db2 = 1 / m * np.sum(dZ2)\n",
    "    dZ1 = W2.T.dot(dZ2) * ReLU_deriv(Z1)\n",
    "    dW1 = 1 / m * dZ1.dot(X.T)\n",
    "    db1 = 1 / m * np.sum(dZ1)\n",
    "    return dW1, db1, dW2, db2\n",
    "\n",
    "def update_params(W1, b1, W2, b2, dW1, db1, dW2, db2, alpha):\n",
    "    W1 = W1 - alpha * dW1\n",
    "    b1 = b1 - alpha * db1    \n",
    "    W2 = W2 - alpha * dW2  \n",
    "    b2 = b2 - alpha * db2    \n",
    "    return W1, b1, W2, b2"
   ]
  },
  {
   "cell_type": "code",
   "execution_count": 5,
   "id": "d58db8da",
   "metadata": {},
   "outputs": [],
   "source": [
    "def get_predictions(A2):\n",
    "    return np.argmax(A2, 0)\n",
    "\n",
    "def get_accuracy(predictions, Y):\n",
    "    print(predictions, Y)\n",
    "    return np.sum(predictions == Y) / Y.size\n",
    "\n",
    "def gradient_descent(X, Y, alpha, iterations):\n",
    "    W1, b1, W2, b2 = init_params()\n",
    "    for i in range(iterations):\n",
    "        Z1, A1, Z2, A2 = forward_prop(W1, b1, W2, b2, X)\n",
    "        dW1, db1, dW2, db2 = backward_prop(Z1, A1, Z2, A2, W1, W2, X, Y)\n",
    "        W1, b1, W2, b2 = update_params(W1, b1, W2, b2, dW1, db1, dW2, db2, alpha)\n",
    "        if i % 10 == 0:\n",
    "            print(\"Iteration: \", i)\n",
    "            predictions = get_predictions(A2)\n",
    "            print(get_accuracy(predictions, Y))\n",
    "    return W1, b1, W2, b2"
   ]
  },
  {
   "cell_type": "markdown",
   "id": "aebbdb89",
   "metadata": {},
   "source": [
    "#### Compiling the model using 1000 iterations"
   ]
  },
  {
   "cell_type": "code",
   "execution_count": 6,
   "id": "1bc723f7",
   "metadata": {},
   "outputs": [
    {
     "name": "stdout",
     "output_type": "stream",
     "text": [
      "Iteration:  0\n",
      "[4 5 5 ... 0 0 5] [3 7 3 ... 1 1 1]\n",
      "0.06351219512195122\n",
      "Iteration:  10\n",
      "[3 3 5 ... 5 5 3] [3 7 3 ... 1 1 1]\n",
      "0.21265853658536585\n",
      "Iteration:  20\n",
      "[3 9 3 ... 5 5 3] [3 7 3 ... 1 1 1]\n",
      "0.2917560975609756\n",
      "Iteration:  30\n",
      "[3 9 3 ... 5 3 3] [3 7 3 ... 1 1 1]\n",
      "0.3437317073170732\n",
      "Iteration:  40\n",
      "[3 9 3 ... 1 3 3] [3 7 3 ... 1 1 1]\n",
      "0.39226829268292684\n",
      "Iteration:  50\n",
      "[3 9 3 ... 1 1 3] [3 7 3 ... 1 1 1]\n",
      "0.4543658536585366\n",
      "Iteration:  60\n",
      "[3 9 3 ... 1 1 1] [3 7 3 ... 1 1 1]\n",
      "0.506780487804878\n",
      "Iteration:  70\n",
      "[3 9 3 ... 1 1 1] [3 7 3 ... 1 1 1]\n",
      "0.5463170731707317\n",
      "Iteration:  80\n",
      "[3 9 3 ... 1 1 1] [3 7 3 ... 1 1 1]\n",
      "0.5788536585365853\n",
      "Iteration:  90\n",
      "[3 9 3 ... 1 1 1] [3 7 3 ... 1 1 1]\n",
      "0.6053414634146341\n",
      "Iteration:  100\n",
      "[3 9 3 ... 1 1 1] [3 7 3 ... 1 1 1]\n",
      "0.6298780487804878\n",
      "Iteration:  110\n",
      "[3 9 3 ... 1 1 1] [3 7 3 ... 1 1 1]\n",
      "0.6498536585365854\n",
      "Iteration:  120\n",
      "[3 7 3 ... 1 1 1] [3 7 3 ... 1 1 1]\n",
      "0.6675609756097561\n",
      "Iteration:  130\n",
      "[3 7 3 ... 1 1 1] [3 7 3 ... 1 1 1]\n",
      "0.6835365853658537\n",
      "Iteration:  140\n",
      "[3 7 3 ... 1 1 1] [3 7 3 ... 1 1 1]\n",
      "0.6965853658536585\n",
      "Iteration:  150\n",
      "[3 7 3 ... 1 1 1] [3 7 3 ... 1 1 1]\n",
      "0.7093414634146341\n",
      "Iteration:  160\n",
      "[3 7 3 ... 1 1 1] [3 7 3 ... 1 1 1]\n",
      "0.7200975609756097\n",
      "Iteration:  170\n",
      "[3 7 3 ... 1 1 1] [3 7 3 ... 1 1 1]\n",
      "0.7303414634146341\n",
      "Iteration:  180\n",
      "[3 7 3 ... 1 1 1] [3 7 3 ... 1 1 1]\n",
      "0.7385609756097561\n",
      "Iteration:  190\n",
      "[3 7 3 ... 1 1 1] [3 7 3 ... 1 1 1]\n",
      "0.7461951219512195\n",
      "Iteration:  200\n",
      "[3 7 3 ... 1 1 1] [3 7 3 ... 1 1 1]\n",
      "0.7529268292682927\n",
      "Iteration:  210\n",
      "[3 7 3 ... 1 1 1] [3 7 3 ... 1 1 1]\n",
      "0.7598292682926829\n",
      "Iteration:  220\n",
      "[3 7 3 ... 1 1 1] [3 7 3 ... 1 1 1]\n",
      "0.7663170731707317\n",
      "Iteration:  230\n",
      "[3 7 3 ... 1 1 1] [3 7 3 ... 1 1 1]\n",
      "0.7729512195121951\n",
      "Iteration:  240\n",
      "[3 7 3 ... 1 1 1] [3 7 3 ... 1 1 1]\n",
      "0.7781951219512195\n",
      "Iteration:  250\n",
      "[3 7 3 ... 1 1 1] [3 7 3 ... 1 1 1]\n",
      "0.7830487804878049\n",
      "Iteration:  260\n",
      "[3 7 3 ... 1 1 1] [3 7 3 ... 1 1 1]\n",
      "0.7885121951219513\n",
      "Iteration:  270\n",
      "[3 7 3 ... 1 1 1] [3 7 3 ... 1 1 1]\n",
      "0.7929756097560976\n",
      "Iteration:  280\n",
      "[3 7 3 ... 1 1 1] [3 7 3 ... 1 1 1]\n",
      "0.7964634146341464\n",
      "Iteration:  290\n",
      "[3 7 3 ... 1 1 1] [3 7 3 ... 1 1 1]\n",
      "0.7998780487804878\n",
      "Iteration:  300\n",
      "[3 7 3 ... 1 1 1] [3 7 3 ... 1 1 1]\n",
      "0.8031463414634147\n",
      "Iteration:  310\n",
      "[3 7 3 ... 1 1 1] [3 7 3 ... 1 1 1]\n",
      "0.8067073170731708\n",
      "Iteration:  320\n",
      "[3 7 3 ... 1 1 1] [3 7 3 ... 1 1 1]\n",
      "0.8097317073170732\n",
      "Iteration:  330\n",
      "[3 7 3 ... 1 1 1] [3 7 3 ... 1 1 1]\n",
      "0.8125365853658536\n",
      "Iteration:  340\n",
      "[3 7 3 ... 1 1 1] [3 7 3 ... 1 1 1]\n",
      "0.8154146341463414\n",
      "Iteration:  350\n",
      "[3 7 3 ... 1 1 1] [3 7 3 ... 1 1 1]\n",
      "0.8177317073170731\n",
      "Iteration:  360\n",
      "[3 7 3 ... 1 1 1] [3 7 3 ... 1 1 1]\n",
      "0.82\n",
      "Iteration:  370\n",
      "[3 7 3 ... 1 1 1] [3 7 3 ... 1 1 1]\n",
      "0.8221951219512195\n",
      "Iteration:  380\n",
      "[3 7 3 ... 1 1 1] [3 7 3 ... 1 1 1]\n",
      "0.8244634146341463\n",
      "Iteration:  390\n",
      "[3 7 3 ... 1 1 1] [3 7 3 ... 1 1 1]\n",
      "0.8266829268292682\n",
      "Iteration:  400\n",
      "[3 7 3 ... 1 1 1] [3 7 3 ... 1 1 1]\n",
      "0.8290243902439024\n",
      "Iteration:  410\n",
      "[3 7 3 ... 1 1 1] [3 7 3 ... 1 1 1]\n",
      "0.8313414634146341\n",
      "Iteration:  420\n",
      "[3 7 3 ... 1 1 1] [3 7 3 ... 1 1 1]\n",
      "0.8332439024390244\n",
      "Iteration:  430\n",
      "[3 7 3 ... 1 1 1] [3 7 3 ... 1 1 1]\n",
      "0.8349756097560975\n",
      "Iteration:  440\n",
      "[3 7 3 ... 1 1 1] [3 7 3 ... 1 1 1]\n",
      "0.8366097560975609\n",
      "Iteration:  450\n",
      "[3 7 3 ... 1 1 1] [3 7 3 ... 1 1 1]\n",
      "0.8380975609756097\n",
      "Iteration:  460\n",
      "[3 7 3 ... 1 1 1] [3 7 3 ... 1 1 1]\n",
      "0.8398292682926829\n",
      "Iteration:  470\n",
      "[3 7 3 ... 1 1 1] [3 7 3 ... 1 1 1]\n",
      "0.8408536585365853\n",
      "Iteration:  480\n",
      "[3 7 3 ... 1 1 1] [3 7 3 ... 1 1 1]\n",
      "0.8424634146341463\n",
      "Iteration:  490\n",
      "[3 7 3 ... 1 1 1] [3 7 3 ... 1 1 1]\n",
      "0.843390243902439\n"
     ]
    }
   ],
   "source": [
    "W1, b1, W2, b2 = gradient_descent(X_train, Y_train, 0.10, 500)"
   ]
  },
  {
   "cell_type": "markdown",
   "id": "9597a8db",
   "metadata": {},
   "source": [
    "Approximate Accuracy Score of 85% is obtained"
   ]
  },
  {
   "cell_type": "markdown",
   "id": "60b938ec",
   "metadata": {},
   "source": [
    "#### Predictions"
   ]
  },
  {
   "cell_type": "code",
   "execution_count": 7,
   "id": "e65d26b9",
   "metadata": {},
   "outputs": [],
   "source": [
    "def make_predictions(X, W1, b1, W2, b2):\n",
    "    _, _, _, A2 = forward_prop(W1, b1, W2, b2, X)\n",
    "    predictions = get_predictions(A2)\n",
    "    return predictions\n",
    "\n",
    "def test_prediction(index, W1, b1, W2, b2):\n",
    "    current_image = X_train[:, index, None]\n",
    "    prediction = make_predictions(X_train[:, index, None], W1, b1, W2, b2)\n",
    "    label = Y_train[index]\n",
    "    print(\"Prediction: \", prediction)\n",
    "    print(\"Label: \", label)\n",
    "    \n",
    "    current_image = current_image.reshape((28, 28)) * 255\n",
    "    plt.gray()\n",
    "    plt.imshow(current_image, interpolation='nearest')\n",
    "    plt.show()"
   ]
  },
  {
   "cell_type": "markdown",
   "id": "682dc323",
   "metadata": {},
   "source": [
    "#### Generating Some Predictions on testing data"
   ]
  },
  {
   "cell_type": "code",
   "execution_count": 8,
   "id": "3fe4e519",
   "metadata": {},
   "outputs": [
    {
     "name": "stdout",
     "output_type": "stream",
     "text": [
      "Prediction:  [3]\n",
      "Label:  3\n"
     ]
    },
    {
     "data": {
      "image/png": "[encoded data removed]",
      "text/plain": [
       "<Figure size 432x288 with 1 Axes>"
      ]
     },
     "metadata": {
      "needs_background": "light"
     },
     "output_type": "display_data"
    },
    {
     "name": "stdout",
     "output_type": "stream",
     "text": [
      "Prediction:  [7]\n",
      "Label:  7\n"
     ]
    },
    {
     "data": {
      "image/png": "[encoded data removed]",
      "text/plain": [
       "<Figure size 432x288 with 1 Axes>"
      ]
     },
     "metadata": {
      "needs_background": "light"
     },
     "output_type": "display_data"
    },
    {
     "name": "stdout",
     "output_type": "stream",
     "text": [
      "Prediction:  [3]\n",
      "Label:  3\n"
     ]
    },
    {
     "data": {
      "image/png": "[encoded data removed]",
      "text/plain": [
       "<Figure size 432x288 with 1 Axes>"
      ]
     },
     "metadata": {
      "needs_background": "light"
     },
     "output_type": "display_data"
    },
    {
     "name": "stdout",
     "output_type": "stream",
     "text": [
      "Prediction:  [5]\n",
      "Label:  5\n"
     ]
    },
    {
     "data": {
      "image/png": "[encoded data removed]",
      "text/plain": [
       "<Figure size 432x288 with 1 Axes>"
      ]
     },
     "metadata": {
      "needs_background": "light"
     },
     "output_type": "display_data"
    }
   ],
   "source": [
    "test_prediction(0, W1, b1, W2, b2)\n",
    "test_prediction(1, W1, b1, W2, b2)\n",
    "test_prediction(2, W1, b1, W2, b2)\n",
    "test_prediction(3, W1, b1, W2, b2)"
   ]
  },
  {
   "cell_type": "markdown",
   "id": "abc9ecaa",
   "metadata": {},
   "source": [
    "Let's Find out the Accuracy Score of the Neural Network on the testing dataset"
   ]
  },
  {
   "cell_type": "code",
   "execution_count": 9,
   "id": "89c6a191",
   "metadata": {},
   "outputs": [
    {
     "name": "stdout",
     "output_type": "stream",
     "text": [
      "[4 2 2 7 3 0 1 8 2 6 2 7 0 8 1 0 9 0 0 9 6 0 4 2 9 3 7 8 0 4 0 9 7 9 1 7 8\n",
      " 8 3 4 8 7 6 8 8 2 8 0 2 3 6 1 1 8 2 1 8 0 5 1 2 8 7 1 7 5 3 7 1 0 8 2 0 3\n",
      " 8 5 3 0 5 3 4 3 2 6 6 1 1 2 7 9 5 0 0 3 7 0 2 6 2 3 1 6 8 6 9 4 9 5 9 2 6\n",
      " 5 1 6 9 9 5 3 3 6 6 7 1 0 6 1 4 2 4 9 0 0 2 5 6 2 7 6 1 0 4 0 7 7 6 6 4 3\n",
      " 5 5 2 3 9 9 7 6 9 9 4 6 6 4 5 4 0 7 8 1 2 7 7 0 6 8 9 5 0 9 1 2 8 9 6 5 6\n",
      " 1 8 2 6 1 5 1 6 9 0 4 6 0 4 0 1 7 3 1 5 9 5 3 1 8 3 6 7 2 9 7 3 7 8 0 7 0\n",
      " 0 9 2 7 5 0 5 7 7 1 4 1 9 6 1 7 9 7 3 7 4 8 6 5 3 7 9 8 9 7 5 0 4 6 5 2 9\n",
      " 5 9 3 9 6 6 1 1 0 9 7 8 5 0 5 6 6 0 3 4 7 3 0 9 2 7 9 8 8 1 8 0 1 1 5 8 0\n",
      " 2 4 9 6 5 9 4 7 5 3 9 1 4 5 1 3 7 2 2 1 7 8 1 5 2 5 0 0 4 6 3 5 6 2 0 7 2\n",
      " 7 9 3 0 8 7 8 6 5 9 3 9 1 5 1 8 0 2 7 9 0 9 1 6 9 4 7 4 3 2 0 0 3 5 2 8 3\n",
      " 4 8 3 9 5 3 6 7 8 8 5 1 1 4 9 0 9 1 1 1 9 7 8 8 2 7 1 3 3 6 5 6 8 5 7 6 5\n",
      " 5 7 2 9 0 4 1 2 0 3 3 3 4 5 7 3 3 7 7 8 3 2 0 0 5 9 4 0 4 8 2 6 6 9 5 9 8\n",
      " 4 6 2 4 7 3 0 7 2 5 2 2 3 1 0 1 1 8 1 1 7 1 2 3 7 4 1 3 3 9 7 9 6 8 3 7 0\n",
      " 2 9 5 5 3 4 2 9 7 9 6 9 2 1 4 3 2 9 4 4 3 0 9 6 3 3 0 5 0 4 6 6 7 0 9 0 1\n",
      " 6 9 1 1 3 4 6 4 8 8 4 1 2 4 9 0 7 2 1 8 7 8 8 2 6 6 7 5 2 0 8 6 6 6 3 1 0\n",
      " 0 3 4 3 6 9 3 1 1 6 4 2 0 3 2 6 3 0 7 4 1 2 6 2 3 5 6 2 8 2 3 3 9 1 3 8 1\n",
      " 1 9 3 9 3 1 6 6 0 9 7 6 2 4 2 8 6 1 0 8 8 7 3 1 1 5 5 4 3 9 9 7 6 8 1 0 0\n",
      " 0 6 0 6 7 8 2 5 1 8 1 4 0 4 3 7 7 1 6 8 4 9 8 3 4 6 1 4 3 6 3 5 3 0 6 3 8\n",
      " 3 2 3 8 6 9 4 8 5 8 8 3 3 1 2 8 9 3 7 4 3 6 8 6 1 9 4 6 3 8 2 7 6 0 1 6 2\n",
      " 3 6 8 0 8 1 1 1 6 3 9 4 6 3 8 8 4 6 0 8 4 6 2 9 7 0 2 8 0 4 9 1 9 9 4 4 5\n",
      " 2 1 1 3 5 5 8 3 4 2 3 6 2 1 0 4 7 4 7 9 8 4 2 3 2 0 1 3 5 9 3 1 0 5 4 1 4\n",
      " 4 1 7 6 6 8 9 5 0 8 1 5 4 2 8 9 8 2 8 0 3 0 3 0 2 5 2 6 4 6 4 8 9 9 3 0 0\n",
      " 3 5 8 8 9 5 4 9 9 2 5 8 2 4 8 6 8 1 2 1 2 9 5 4 3 7 0 9 4 9 4 8 7 9 0 0 1\n",
      " 7 1 6 8 2 2 4 7 3 7 6 4 8 3 3 3 6 2 7 3 9 5 8 5 8 6 9 4 6 1 8 2 0 7 1 7 5\n",
      " 8 7 8 1 4 5 4 8 1 4 7 0 1 7 2 8 6 0 5 8 9 5 3 8 1 5 2 4 4 1 1 0 3 0 6 4 1\n",
      " 7 1 6 0 4 3 3 9 1 6 7 1 0 3 6 1 6 3 2 1 3 0 0 4 1 3 6 1 2 8 0 8 7 5 4 1 3\n",
      " 2 3 1 8 5 1 3 8 5 0 6 1 8 5 8 0 1 5 9 1 8 0 1 2 2 1 1 1 8 6 5 9 2 6 7 3 3\n",
      " 9] [4 2 2 7 3 0 1 8 2 6 2 7 0 5 1 0 9 0 0 9 6 0 4 2 9 3 7 5 0 9 0 9 9 9 2 7 8\n",
      " 8 2 4 8 9 6 8 5 2 5 0 2 5 6 1 1 8 2 1 8 0 5 1 2 8 7 1 7 5 3 7 1 0 8 8 9 3\n",
      " 8 8 3 0 5 8 4 3 2 6 4 1 1 2 7 9 5 0 0 3 7 0 2 6 2 3 1 6 9 6 7 4 9 5 8 2 6\n",
      " 5 1 6 9 9 3 3 3 6 6 7 1 0 6 1 2 2 4 9 0 5 2 5 6 2 7 6 1 5 4 0 7 7 6 6 4 3\n",
      " 5 0 2 3 9 9 7 6 9 7 4 6 6 4 5 4 0 7 7 1 2 9 7 0 6 8 9 6 0 9 1 2 8 4 6 5 6\n",
      " 1 8 2 6 1 5 1 6 9 0 4 6 0 9 0 1 7 3 1 8 9 0 5 2 8 3 6 7 2 9 7 3 7 8 0 7 0\n",
      " 0 9 2 7 5 0 5 7 7 1 4 1 9 2 1 7 9 7 3 7 9 8 6 5 3 7 9 8 9 7 5 0 4 6 5 2 9\n",
      " 5 9 0 9 6 6 1 1 0 9 5 8 5 0 5 6 6 0 3 4 7 3 0 9 2 9 9 8 8 1 3 0 1 1 5 8 0\n",
      " 2 4 7 6 5 7 4 7 5 3 4 1 4 5 1 3 7 2 2 1 7 8 1 5 2 5 0 0 4 6 8 5 6 2 0 7 3\n",
      " 7 9 3 0 8 7 8 6 8 9 3 4 1 5 1 2 0 2 9 9 0 9 1 4 9 2 7 4 3 2 0 0 3 5 2 8 3\n",
      " 9 5 3 9 5 3 6 7 8 8 5 1 1 4 7 0 9 1 1 1 9 7 8 5 2 7 1 8 9 6 3 6 8 5 9 6 5\n",
      " 5 7 2 9 0 4 1 2 0 8 3 3 9 5 5 3 3 9 5 8 3 2 0 0 2 8 4 0 4 8 2 6 6 3 5 9 2\n",
      " 4 6 2 4 7 3 0 7 2 5 4 2 3 1 0 1 1 8 1 1 7 1 2 8 7 4 1 3 3 9 7 9 4 8 3 7 0\n",
      " 2 9 5 3 8 5 2 9 7 9 6 9 2 1 4 2 3 9 4 4 3 0 9 6 3 3 0 8 0 2 6 5 7 0 8 0 2\n",
      " 6 9 1 1 3 6 6 4 8 3 9 8 2 4 4 0 7 2 1 5 7 5 8 2 8 6 7 5 2 0 9 6 6 6 3 1 5\n",
      " 0 3 4 3 6 4 3 1 2 6 4 2 0 3 3 6 9 0 7 9 1 5 6 2 5 5 6 6 8 2 5 3 9 1 3 8 1\n",
      " 8 9 3 4 8 1 6 6 0 9 7 6 2 4 2 8 2 1 0 6 8 7 3 1 1 5 5 4 3 9 9 7 2 8 1 0 0\n",
      " 0 6 0 2 7 8 2 5 1 8 1 4 0 4 3 7 7 1 6 6 4 7 8 3 6 8 1 4 3 6 3 8 3 0 6 3 8\n",
      " 3 2 5 8 6 7 4 2 6 8 8 3 3 1 3 8 9 3 3 4 5 2 8 6 1 9 4 4 3 5 2 7 2 0 1 6 2\n",
      " 3 6 5 0 8 1 1 1 6 3 9 4 6 3 5 2 4 6 0 5 4 6 5 4 7 0 2 8 0 4 9 1 9 9 4 9 5\n",
      " 2 1 1 3 5 5 8 3 4 8 3 6 2 1 0 4 7 4 7 9 8 9 2 3 2 0 1 2 5 7 3 2 0 0 9 1 4\n",
      " 4 1 7 6 6 8 9 5 0 8 1 5 4 2 8 9 8 2 8 0 3 0 3 0 2 8 2 6 4 6 4 8 7 9 5 0 0\n",
      " 3 5 8 8 9 5 4 9 9 2 5 8 6 4 8 6 8 1 2 1 2 9 5 4 3 7 0 9 4 9 4 8 7 9 0 0 1\n",
      " 7 1 6 8 2 2 4 7 2 7 6 4 8 3 3 5 2 5 9 3 4 5 8 5 8 6 9 4 6 1 8 2 0 7 1 7 0\n",
      " 8 7 1 1 4 0 4 1 1 4 7 0 1 7 2 8 6 0 5 8 9 5 3 8 1 5 2 4 4 1 1 0 9 0 6 4 1\n",
      " 7 1 6 0 4 3 3 9 3 6 7 1 0 3 6 1 6 3 2 1 3 0 0 4 1 3 6 1 8 8 0 8 7 5 4 1 3\n",
      " 2 3 1 8 5 1 3 2 5 6 2 1 8 5 8 0 1 5 9 1 8 0 1 2 2 1 1 1 3 4 5 8 8 6 7 5 3\n",
      " 9]\n"
     ]
    },
    {
     "data": {
      "text/plain": [
       "0.839"
      ]
     },
     "execution_count": 9,
     "metadata": {},
     "output_type": "execute_result"
    }
   ],
   "source": [
    "dev_predictions = make_predictions(X_dev, W1, b1, W2, b2)\n",
    "get_accuracy(dev_predictions, Y_dev)"
   ]
  },
  {
   "cell_type": "markdown",
   "id": "3cfc6c59",
   "metadata": {},
   "source": [
    "~ 84% Accuracy is Obtained"
   ]
  }
 ],
 "metadata": {
  "kernelspec": {
   "display_name": "Python 3 (ipykernel)",
   "language": "python",
   "name": "python3"
  },
  "language_info": {
   "codemirror_mode": {
    "name": "ipython",
    "version": 3
   },
   "file_extension": ".py",
   "mimetype": "text/x-python",
   "name": "python",
   "nbconvert_exporter": "python",
   "pygments_lexer": "ipython3",
   "version": "3.9.7"
  }
 },
 "nbformat": 4,
 "nbformat_minor": 5
}
