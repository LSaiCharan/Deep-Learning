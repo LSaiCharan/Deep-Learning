{
 "cells": [
  {
   "cell_type": "markdown",
   "id": "4797e954",
   "metadata": {},
   "source": [
    "## Transfer Learning using VGG16 on CIFAR10 Dataset"
   ]
  },
  {
   "cell_type": "markdown",
   "id": "bae4dc16",
   "metadata": {},
   "source": [
    "In this program, we will take a pre-trained model (VGG16) as a base model and we will be adding some layers to it and combine into a single model and this model is used for a classification task.\\\n",
    "\\\n",
    "For dataset we use CIFAR10 dataset. It consists of 60,000 color images, each of size 32x32 pixels, belonging to 10 different classes, with 6,000 images per class, it contains classes like Airplane, Automobile, Bird, Cat etc."
   ]
  },
  {
   "cell_type": "markdown",
   "id": "dfc2b619",
   "metadata": {},
   "source": [
    "#### Importing Required Packages"
   ]
  },
  {
   "cell_type": "code",
   "execution_count": 1,
   "id": "0fe16162",
   "metadata": {},
   "outputs": [],
   "source": [
    "import tensorflow as tf\n",
    "from tensorflow.keras.datasets import cifar10\n",
    "from tensorflow.keras.models import Model\n",
    "from tensorflow.keras.layers import Dense, GlobalAveragePooling2D\n",
    "from tensorflow.keras.applications.vgg16 import VGG16\n",
    "from tensorflow.keras.utils import to_categorical"
   ]
  },
  {
   "cell_type": "markdown",
   "id": "423fe3a4",
   "metadata": {},
   "source": [
    "#### Data Loading and Pre-processing"
   ]
  },
  {
   "cell_type": "code",
   "execution_count": 2,
   "id": "25f2bb13",
   "metadata": {},
   "outputs": [],
   "source": [
    "# Load the CIFAR-10 dataset\n",
    "(x_train, y_train), (x_test, y_test) = cifar10.load_data()\n",
    "\n",
    "# Normalize pixel values between 0 and 1\n",
    "x_train = x_train.astype('float32') / 255.0\n",
    "x_test = x_test.astype('float32') / 255.0\n",
    "\n",
    "# Convert labels to categorical one-hot encoding\n",
    "num_classes = 10\n",
    "y_train = to_categorical(y_train, num_classes)\n",
    "y_test = to_categorical(y_test, num_classes)"
   ]
  },
  {
   "cell_type": "markdown",
   "id": "4a7cb3af",
   "metadata": {},
   "source": [
    "#### Loading the Base Model (VGG16)"
   ]
  },
  {
   "cell_type": "code",
   "execution_count": 3,
   "id": "16ed0e48",
   "metadata": {},
   "outputs": [],
   "source": [
    "# Load the pre-trained VGG16 model without top layers\n",
    "base_model = VGG16(weights='imagenet', include_top=False, input_shape=(32, 32, 3))\n",
    "\n",
    "# Freeze the weights of the pre-trained layers\n",
    "for layer in base_model.layers:\n",
    "    layer.trainable = False"
   ]
  },
  {
   "cell_type": "markdown",
   "id": "63b75f5d",
   "metadata": {},
   "source": [
    "#### Adding more layers to the base model"
   ]
  },
  {
   "cell_type": "code",
   "execution_count": 4,
   "id": "dcdc936f",
   "metadata": {},
   "outputs": [],
   "source": [
    "# Add our own classification layers\n",
    "x = base_model.output\n",
    "x = GlobalAveragePooling2D()(x)\n",
    "x = Dense(256, activation='relu')(x)\n",
    "predictions = Dense(num_classes, activation='softmax')(x)\n",
    "\n",
    "# Create the transfer learning model\n",
    "model = Model(inputs=base_model.input, outputs=predictions)"
   ]
  },
  {
   "cell_type": "code",
   "execution_count": 5,
   "id": "f65cba0d",
   "metadata": {},
   "outputs": [
    {
     "name": "stdout",
     "output_type": "stream",
     "text": [
      "Epoch 1/10\n",
      "782/782 [==============================] - 276s 351ms/step - loss: 1.3701 - accuracy: 0.5228 - val_loss: 1.2765 - val_accuracy: 0.5534\n",
      "Epoch 2/10\n",
      "782/782 [==============================] - 276s 354ms/step - loss: 1.1808 - accuracy: 0.5874 - val_loss: 1.1940 - val_accuracy: 0.5787\n",
      "Epoch 3/10\n",
      "782/782 [==============================] - 273s 349ms/step - loss: 1.1231 - accuracy: 0.6085 - val_loss: 1.1655 - val_accuracy: 0.5909\n",
      "Epoch 4/10\n",
      "782/782 [==============================] - 274s 351ms/step - loss: 1.0745 - accuracy: 0.6239 - val_loss: 1.1593 - val_accuracy: 0.5898\n",
      "Epoch 5/10\n",
      "782/782 [==============================] - 291s 373ms/step - loss: 1.0359 - accuracy: 0.6367 - val_loss: 1.1293 - val_accuracy: 0.6036\n",
      "Epoch 6/10\n",
      "782/782 [==============================] - 290s 371ms/step - loss: 0.9983 - accuracy: 0.6509 - val_loss: 1.1360 - val_accuracy: 0.6045\n",
      "Epoch 7/10\n",
      "782/782 [==============================] - 279s 357ms/step - loss: 0.9686 - accuracy: 0.6609 - val_loss: 1.1177 - val_accuracy: 0.6117\n",
      "Epoch 8/10\n",
      "782/782 [==============================] - 294s 376ms/step - loss: 0.9387 - accuracy: 0.6719 - val_loss: 1.1072 - val_accuracy: 0.6201\n",
      "Epoch 9/10\n",
      "782/782 [==============================] - 258s 331ms/step - loss: 0.9096 - accuracy: 0.6828 - val_loss: 1.0932 - val_accuracy: 0.6198\n",
      "Epoch 10/10\n",
      "782/782 [==============================] - 236s 302ms/step - loss: 0.8851 - accuracy: 0.6905 - val_loss: 1.1175 - val_accuracy: 0.6095\n"
     ]
    },
    {
     "data": {
      "text/plain": [
       "<keras.callbacks.History at 0x1cf002d1e80>"
      ]
     },
     "execution_count": 5,
     "metadata": {},
     "output_type": "execute_result"
    }
   ],
   "source": [
    "# Compile the model\n",
    "model.compile(optimizer='adam', loss='categorical_crossentropy', metrics=['accuracy'])\n",
    "\n",
    "# Train the model\n",
    "model.fit(x_train, y_train, batch_size=64, epochs=10, validation_data=(x_test, y_test))"
   ]
  },
  {
   "cell_type": "markdown",
   "id": "fe6e05d5",
   "metadata": {},
   "source": [
    "#### Model Evaluation"
   ]
  },
  {
   "cell_type": "code",
   "execution_count": 6,
   "id": "3d4ba21d",
   "metadata": {},
   "outputs": [
    {
     "name": "stdout",
     "output_type": "stream",
     "text": [
      "313/313 [==============================] - 49s 156ms/step - loss: 1.1175 - accuracy: 0.6095\n",
      "Accuracy: 0.609499990940094\n"
     ]
    }
   ],
   "source": [
    "# Evaluate the model on the test set\n",
    "_, accuracy = model.evaluate(x_test, y_test)\n",
    "\n",
    "# Print the accuracy\n",
    "print(\"Accuracy:\", accuracy)"
   ]
  },
  {
   "cell_type": "code",
   "execution_count": 7,
   "id": "322bbd67",
   "metadata": {},
   "outputs": [
    {
     "data": {
      "image/png": "[encoded data removed]",
      "text/plain": [
       "<Figure size 864x216 with 5 Axes>"
      ]
     },
     "metadata": {
      "needs_background": "light"
     },
     "output_type": "display_data"
    }
   ],
   "source": [
    "import matplotlib.pyplot as plt\n",
    "import numpy as np\n",
    "\n",
    "# Select a few random images from the test set\n",
    "num_images = 5\n",
    "random_indices = np.random.choice(len(x_test), size=num_images, replace=False)\n",
    "images = x_test[random_indices]\n",
    "true_labels = np.argmax(y_test[random_indices], axis=1)\n",
    "\n",
    "# Make predictions on the selected images\n",
    "predictions = model.predict(images)\n",
    "predicted_labels = np.argmax(predictions, axis=1)\n",
    "\n",
    "# Create a figure with subplots to display the images and their labels\n",
    "fig, axes = plt.subplots(1, num_images, figsize=(12, 3))\n",
    "\n",
    "for i, ax in enumerate(axes):\n",
    "    # Display the image\n",
    "    ax.imshow(images[i])\n",
    "    ax.axis('off')\n",
    "    # Set the title as true label/predicted label\n",
    "    title = f'True: {true_labels[i]}\\nPredicted: {predicted_labels[i]}'\n",
    "    ax.set_title(title)\n",
    "\n",
    "plt.tight_layout()\n",
    "plt.show()\n"
   ]
  },
  {
   "cell_type": "code",
   "execution_count": null,
   "id": "0facce77",
   "metadata": {},
   "outputs": [],
   "source": []
  }
 ],
 "metadata": {
  "kernelspec": {
   "display_name": "Python 3 (ipykernel)",
   "language": "python",
   "name": "python3"
  },
  "language_info": {
   "codemirror_mode": {
    "name": "ipython",
    "version": 3
   },
   "file_extension": ".py",
   "mimetype": "text/x-python",
   "name": "python",
   "nbconvert_exporter": "python",
   "pygments_lexer": "ipython3",
   "version": "3.9.7"
  }
 },
 "nbformat": 4,
 "nbformat_minor": 5
}
