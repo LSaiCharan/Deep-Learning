{
 "cells": [
  {
   "cell_type": "markdown",
   "id": "9c5b5d4c",
   "metadata": {},
   "source": [
    "#### Building a ConvNet using only Tensorflow"
   ]
  },
  {
   "cell_type": "markdown",
   "id": "ee36d9f4",
   "metadata": {},
   "source": [
    "In this program, We are going to build a ConvNet model using only tensorflow package and we will be training the model built on MNIST Dataset and we are gonna test it and evaluate how it performs by calculating the Accuracy of the model."
   ]
  },
  {
   "cell_type": "code",
   "execution_count": 1,
   "id": "5d94a686",
   "metadata": {},
   "outputs": [],
   "source": [
    "import tensorflow as tf\n",
    "\n",
    "class CNN:\n",
    "    def __init__(self, num_classes):\n",
    "        self.num_classes = num_classes\n",
    "        self.build_model()\n",
    "\n",
    "    def build_model(self):\n",
    "        self.model = tf.keras.models.Sequential()\n",
    "        self.model.add(tf.keras.layers.Conv2D(32, 3, activation=tf.nn.relu, input_shape=(28, 28, 1)))\n",
    "        self.model.add(tf.keras.layers.MaxPooling2D())\n",
    "        self.model.add(tf.keras.layers.Conv2D(64, 3, activation=tf.nn.relu))\n",
    "        self.model.add(tf.keras.layers.MaxPooling2D())\n",
    "        self.model.add(tf.keras.layers.Conv2D(128, 3, activation=tf.nn.relu))\n",
    "        self.model.add(tf.keras.layers.MaxPooling2D())\n",
    "        self.model.add(tf.keras.layers.Flatten())\n",
    "        self.model.add(tf.keras.layers.Dense(256, activation=tf.nn.relu))\n",
    "        self.model.add(tf.keras.layers.Dense(self.num_classes, activation=tf.nn.softmax))\n",
    "\n",
    "    def train(self, train_images, train_labels, epochs, batch_size):\n",
    "        self.model.compile(optimizer=tf.optimizers.Adam(), loss=tf.losses.CategoricalCrossentropy(), metrics=['accuracy'])\n",
    "        self.model.fit(train_images, train_labels, epochs=epochs, batch_size=batch_size)\n",
    "\n",
    "    def evaluate(self, test_images, test_labels):\n",
    "        loss, acc = self.model.evaluate(test_images, test_labels)\n",
    "        print('Accuracy:', acc)\n"
   ]
  },
  {
   "cell_type": "code",
   "execution_count": 3,
   "id": "56378935",
   "metadata": {},
   "outputs": [
    {
     "name": "stdout",
     "output_type": "stream",
     "text": [
      "Epoch 1/5\n",
      "469/469 [==============================] - 31s 65ms/step - loss: 0.2958 - accuracy: 0.9121\n",
      "Epoch 2/5\n",
      "469/469 [==============================] - 30s 63ms/step - loss: 0.0806 - accuracy: 0.9751\n",
      "Epoch 3/5\n",
      "469/469 [==============================] - 29s 61ms/step - loss: 0.0601 - accuracy: 0.9810\n",
      "Epoch 4/5\n",
      "469/469 [==============================] - 29s 61ms/step - loss: 0.0444 - accuracy: 0.9864\n",
      "Epoch 5/5\n",
      "469/469 [==============================] - 29s 61ms/step - loss: 0.0391 - accuracy: 0.9876\n",
      "313/313 [==============================] - 3s 9ms/step - loss: 0.0471 - accuracy: 0.9864\n",
      "Accuracy: 0.9864000082015991\n"
     ]
    }
   ],
   "source": [
    "import tensorflow as tf\n",
    "from tensorflow import keras\n",
    "import numpy as np\n",
    "\n",
    "(X_train, y_train), (X_test, y_test) = keras.datasets.mnist.load_data()\n",
    "\n",
    "X_train = np.expand_dims(X_train, axis=-1).astype('float32') / 255.0\n",
    "X_test = np.expand_dims(X_test, axis=-1).astype('float32') / 255.0\n",
    "y_train = keras.utils.to_categorical(y_train, 10)\n",
    "y_test = keras.utils.to_categorical(y_test, 10)\n",
    "\n",
    "cnn = CNN(num_classes=10)\n",
    "cnn.train(X_train, y_train, epochs=5, batch_size=128)\n",
    "cnn.evaluate(X_test, y_test)"
   ]
  }
 ],
 "metadata": {
  "kernelspec": {
   "display_name": "Python 3 (ipykernel)",
   "language": "python",
   "name": "python3"
  },
  "language_info": {
   "codemirror_mode": {
    "name": "ipython",
    "version": 3
   },
   "file_extension": ".py",
   "mimetype": "text/x-python",
   "name": "python",
   "nbconvert_exporter": "python",
   "pygments_lexer": "ipython3",
   "version": "3.9.7"
  }
 },
 "nbformat": 4,
 "nbformat_minor": 5
}
